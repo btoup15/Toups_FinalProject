{
 "cells": [
  {
   "cell_type": "markdown",
   "metadata": {},
   "source": [
    "# Toups Final Project\n",
    "\n",
    "Simulating the movement of Warbling Babbler from multiple populations to multiple landscapes\n",
    "\n",
    "- importing the required modules"
   ]
  },
  {
   "cell_type": "code",
   "execution_count": 1,
   "metadata": {},
   "outputs": [],
   "source": [
    "import random\n",
    "import matplotlib.pyplot as plt\n",
    "import numpy as np"
   ]
  },
  {
   "cell_type": "markdown",
   "metadata": {},
   "source": [
    "- setting up the required classes"
   ]
  },
  {
   "cell_type": "code",
   "execution_count": 2,
   "metadata": {},
   "outputs": [],
   "source": [
    "#list containing all phenotypes\n",
    "phenotypeList = [\"red\", \"green\", \"blue\", \"brown\"]\n",
    "random.shuffle(phenotypeList)\n",
    "#matrix containing each possible migration (for np.random.choice function)\n",
    "migrations = [['BB', 'BW', 'BM', 'BJ'], ['WB', 'WW', 'WM', 'WJ'], ['MB', 'MW', 'MM', 'MJ'], ['JB', 'JW', 'JM', 'JJ']]\n",
    "\n",
    "\n",
    "class individual:\n",
    "    '''class that constructs an individual (warbling babbler) of a given phenotype that will make up a population'''\n",
    "    def __init__(self, phenotype):\n",
    "        self.phenotype = phenotype\n",
    "    \n",
    "\n",
    "class population:\n",
    "    '''class that constructs a population of given size containing a list of individuals'''\n",
    "    def __init__(self, pheno, size = 10):\n",
    "        self.pheno = pheno\n",
    "        self.size = size\n",
    "        self.indivs = []\n",
    "        for i in range(size):\n",
    "            self.indivs.append(individual(phenotype = pheno))\n",
    "    def countPhenos(self):\n",
    "        '''counts the phenotype of every individual in the population'''\n",
    "        red = 0\n",
    "        green = 0\n",
    "        brown = 0\n",
    "        blue = 0\n",
    "        for i in self.indivs:\n",
    "            if i.phenotype == \"red\":\n",
    "                red += 1\n",
    "            elif i.phenotype == \"green\":\n",
    "                green += 1\n",
    "            elif i.phenotype == \"brown\":\n",
    "                brown += 1\n",
    "            elif i.phenotype == \"blue\":\n",
    "                blue += 1\n",
    "                print(\"test\")\n",
    "        phenos = [red,green,brown,blue]\n",
    "        return phenos\n",
    "            \n",
    "class landscape:\n",
    "    '''class that defines a singular landscape including the population that inhabits it \n",
    "    and the probabilities that a given individuals will migrate to another location'''\n",
    "    def __init__(self, landID, probs):\n",
    "        self.landID = landID\n",
    "        self.landPop = population(pheno = phenotypeList.pop())\n",
    "        self.probs = probs\n",
    "        \n",
    "    def migrate(self):\n",
    "        '''First, checks the ID of the current landscape. This informs a random selection from a matrix that\n",
    "        includes all possible migrations (in the used nomenclature, BW represents a migration from beach to woods, etc).\n",
    "        The probabilites for the selection are taken from the probs list assigned to the object upon creation. \n",
    "        If a selection other than the current landscape is made, the list of individuals in the landscapes population\n",
    "        is shuffled and an individual is removed from the list and appended to the list of individuals in the \n",
    "        chosen landscape'''\n",
    "        if self.landID == 'beach':\n",
    "            migration = np.random.choice(migrations[0], replace = True, p = self.probs)\n",
    "            if migration == 'BB':\n",
    "                pass\n",
    "            elif migration == 'BW':\n",
    "                random.shuffle(self.landPop.indivs)\n",
    "                woods.landPop.indivs.append(self.landPop.indivs.pop())\n",
    "            elif migration == 'BM':\n",
    "                random.shuffle(self.landPop.indivs)\n",
    "                mountains.landPop.indivs.append(self.landPop.indivs.pop())\n",
    "            elif migration == 'BJ':\n",
    "                random.shuffle(self.landPop.indivs)\n",
    "                jungle.landPop.indivs.append(self.landPop.indivs.pop())\n",
    "        elif self.landID == 'woods':\n",
    "            migration = np.random.choice(migrations[1], replace = True, p = self.probs)\n",
    "            if migration == 'WB':\n",
    "                random.shuffle(self.landPop.indivs)\n",
    "                beach.landPop.indivs.append(self.landPop.indivs.pop())\n",
    "            elif migration == 'WW':\n",
    "                pass\n",
    "            elif migration == 'WM':\n",
    "                random.shuffle(self.landPop.indivs)\n",
    "                mountains.landPop.indivs.append(self.landPop.indivs.pop())\n",
    "            elif migration == 'WJ':\n",
    "                random.shuffle(self.landPop.indivs)\n",
    "                jungle.landPop.indivs.append(self.landPop.indivs.pop())\n",
    "        elif self.landID == 'mountains':\n",
    "            migration = np.random.choice(migrations[2], replace = True, p = self.probs)\n",
    "            if migration == 'MB':\n",
    "                random.shuffle(self.landPop.indivs)\n",
    "                beach.landPop.indivs.append(self.landPop.indivs.pop())\n",
    "            elif migration == 'MW':\n",
    "                random.shuffle(self.landPop.indivs)\n",
    "                woods.landPop.indivs.append(self.landPop.indivs.pop())\n",
    "            elif migration == 'MM':\n",
    "                pass\n",
    "            elif migration == 'MJ':\n",
    "                random.shuffle(self.landPop.indivs)\n",
    "                jungle.landPop.indivs.append(self.landPop.indivs.pop())\n",
    "        elif self.landID == 'jungle':\n",
    "            migration = np.random.choice(migrations[3], replace = True, p = self.probs)\n",
    "            if migration == 'JB':\n",
    "                random.shuffle(self.landPop.indivs)\n",
    "                beach.landPop.indivs.append(self.landPop.indivs.pop())\n",
    "            elif migration == 'JW':\n",
    "                random.shuffle(self.landPop.indivs)\n",
    "                woods.landPop.indivs.append(self.landPop.indivs.pop())\n",
    "            elif migration == 'JM':\n",
    "                random.shuffle(self.landPop.indivs)\n",
    "                mountains.landPop.indivs.append(self.landPop.indivs.pop())\n",
    "            elif migration == 'JJ':\n",
    "                pass\n",
    "        else:\n",
    "            print('selection error')\n"
   ]
  },
  {
   "cell_type": "code",
   "execution_count": 3,
   "metadata": {},
   "outputs": [],
   "source": [
    "# initializes each landscape with it's corresponding list of migration probabilities\n",
    "beach = landscape(landID = 'beach', probs = [0.7,0.1,0.1,0.1])\n",
    "woods = landscape(landID= 'woods', probs = [0.1,0.7,0.1,0.1])\n",
    "mountains = landscape(landID = 'mountains', probs = [0.1,0.1,0.7,0.1])\n",
    "jungle = landscape(landID = 'jungle', probs = [0.1,0.1,0.1,0.7])\n",
    "landscapes = [beach, woods, mountains, jungle]\n",
    "\n",
    "# migrating each landscape 10 times and printing their phenotype list afterwards for testing\n",
    "for i in range(10):\n",
    "    for n in landscapes:\n",
    "        n.migrate()\n"
   ]
  },
  {
   "cell_type": "code",
   "execution_count": 4,
   "metadata": {},
   "outputs": [
    {
     "name": "stdout",
     "output_type": "stream",
     "text": [
      "test\n",
      "test\n",
      "test\n",
      "test\n",
      "test\n",
      "test\n",
      "test\n",
      "test\n",
      "test\n",
      "[0, 1, 0, 9]\n"
     ]
    }
   ],
   "source": [
    "print(mountains.landPop.countPhenos())"
   ]
  },
  {
   "cell_type": "code",
   "execution_count": 37,
   "metadata": {},
   "outputs": [
    {
     "name": "stdout",
     "output_type": "stream",
     "text": [
      "blue\n",
      "blue\n",
      "blue\n",
      "blue\n",
      "blue\n",
      "blue\n",
      "blue\n"
     ]
    }
   ],
   "source": [
    "\n",
    "for i in mountains.landPop.indivs:\n",
    "    print(i.phenotype)"
   ]
  },
  {
   "cell_type": "code",
   "execution_count": null,
   "metadata": {},
   "outputs": [],
   "source": []
  }
 ],
 "metadata": {
  "kernelspec": {
   "display_name": "Python 3",
   "language": "python",
   "name": "python3"
  },
  "language_info": {
   "codemirror_mode": {
    "name": "ipython",
    "version": 3
   },
   "file_extension": ".py",
   "mimetype": "text/x-python",
   "name": "python",
   "nbconvert_exporter": "python",
   "pygments_lexer": "ipython3",
   "version": "3.6.4"
  }
 },
 "nbformat": 4,
 "nbformat_minor": 2
}
