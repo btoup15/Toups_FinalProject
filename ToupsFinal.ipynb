{
 "cells": [
  {
   "cell_type": "markdown",
   "metadata": {},
   "source": [
    "# Toups Final Project\n",
    "\n",
    "Simulating the movement of Warbling Babbler from multiple populations to multiple landscapes\n",
    "\n",
    "- importing the required modules"
   ]
  },
  {
   "cell_type": "code",
   "execution_count": 1,
   "metadata": {},
   "outputs": [],
   "source": [
    "import random\n",
    "import matplotlib.pyplot as plt"
   ]
  },
  {
   "cell_type": "markdown",
   "metadata": {},
   "source": [
    "- setting up the required classes"
   ]
  },
  {
   "cell_type": "code",
   "execution_count": 4,
   "metadata": {},
   "outputs": [],
   "source": [
    "phenotypeList = [\"red\", \"green\", \"blue\", \"brown\"]\n",
    "class individual:\n",
    "    def __init__(self, phenotype):\n",
    "        self.phenotype = phenotype\n",
    "        \n",
    "class population:\n",
    "    def __init__(self, pheno, size = 10):\n",
    "        self.pheno = pheno\n",
    "        self.size = size\n",
    "        self.indivs = []\n",
    "        for i in range(size):\n",
    "            self.indivs.append(individual(phenotype = pheno))\n",
    "    def printPhenos(self):\n",
    "        for i in self.pop:\n",
    "            print(i.phenotype)\n",
    "class landscape:\n",
    "    def __init__(self, landID):\n",
    "        self.landID = landID\n",
    "        self.pop = population(pheno=random.choice(phenotypeList))\n",
    "    def migrate():\n",
    "        #random.choice for matrix of probabilities (refer to previous code)\n",
    "        pass\n"
   ]
  },
  {
   "cell_type": "code",
   "execution_count": null,
   "metadata": {},
   "outputs": [],
   "source": [
    "# define landscape probability matrix\n",
    "\n",
    "#generate landscape populations\n",
    "\n",
    "#simulate and plot movement"
   ]
  }
 ],
 "metadata": {
  "kernelspec": {
   "display_name": "Python 3",
   "language": "python",
   "name": "python3"
  },
  "language_info": {
   "codemirror_mode": {
    "name": "ipython",
    "version": 3
   },
   "file_extension": ".py",
   "mimetype": "text/x-python",
   "name": "python",
   "nbconvert_exporter": "python",
   "pygments_lexer": "ipython3",
   "version": "3.6.4"
  }
 },
 "nbformat": 4,
 "nbformat_minor": 2
}
